{
  "cells": [
    {
      "cell_type": "markdown",
      "metadata": {
        "id": "view-in-github",
        "colab_type": "text"
      },
      "source": [
        "<a href=\"https://colab.research.google.com/github/Mmbsaksd/Kaggle-competition-1/blob/main/Kaggle_competation1.ipynb\" target=\"_parent\"><img src=\"https://colab.research.google.com/assets/colab-badge.svg\" alt=\"Open In Colab\"/></a>"
      ]
    },
    {
      "cell_type": "code",
      "execution_count": 2,
      "metadata": {
        "colab": {
          "base_uri": "https://localhost:8080/"
        },
        "id": "5cvJ4nqjnCbI",
        "outputId": "a5be2810-0498-4e7d-8c46-7363198f424e"
      },
      "outputs": [
        {
          "output_type": "stream",
          "name": "stdout",
          "text": [
            "Mounted at /content/drive\n"
          ]
        }
      ],
      "source": [
        "from google.colab import drive\n",
        "drive.mount('/content/drive')"
      ]
    },
    {
      "cell_type": "code",
      "execution_count": 3,
      "metadata": {
        "id": "YYKGeMTSeV1B"
      },
      "outputs": [],
      "source": [
        "#import required libraries\n",
        "import pandas as pd\n",
        "from sklearn.model_selection import train_test_split\n",
        "from xgboost import XGBRegressor\n",
        "from sklearn.metrics import mean_squared_error\n",
        "from math import sqrt\n",
        "from sklearn.metrics import mean_absolute_error\n",
        "import pandas as pd\n",
        "import numpy as np\n",
        "from sklearn.preprocessing import MinMaxScaler\n",
        "from sklearn.model_selection import train_test_split\n",
        "from keras.models import Sequential\n",
        "from keras.layers import LSTM, Dense\n",
        "from sklearn.metrics import mean_absolute_error\n",
        "import matplotlib.pyplot as plt"
      ]
    },
    {
      "cell_type": "code",
      "execution_count": 4,
      "metadata": {
        "colab": {
          "base_uri": "https://localhost:8080/",
          "height": 226
        },
        "id": "Cr8lWRvMm3m4",
        "outputId": "beddf74b-6092-43ba-ab4f-1a5ac231fc4c"
      },
      "outputs": [
        {
          "output_type": "execute_result",
          "data": {
            "text/plain": [
              "   stock_id  date_id  seconds_in_bucket  imbalance_size  \\\n",
              "0         0        0                  0      3180602.69   \n",
              "1         1        0                  0       166603.91   \n",
              "2         2        0                  0       302879.87   \n",
              "3         3        0                  0     11917682.27   \n",
              "4         4        0                  0       447549.96   \n",
              "\n",
              "   imbalance_buy_sell_flag  reference_price  matched_size  far_price  \\\n",
              "0                        1         0.999812   13380276.64        NaN   \n",
              "1                       -1         0.999896    1642214.25        NaN   \n",
              "2                       -1         0.999561    1819368.03        NaN   \n",
              "3                       -1         1.000171   18389745.62        NaN   \n",
              "4                       -1         0.999532   17860614.95        NaN   \n",
              "\n",
              "   near_price  bid_price  bid_size  ask_price   ask_size  wap    target  \\\n",
              "0         NaN   0.999812  60651.50   1.000026    8493.03  1.0 -3.029704   \n",
              "1         NaN   0.999896   3233.04   1.000660   20605.09  1.0 -5.519986   \n",
              "2         NaN   0.999403  37956.00   1.000298   18995.00  1.0 -8.389950   \n",
              "3         NaN   0.999999   2324.90   1.000214  479032.40  1.0 -4.010200   \n",
              "4         NaN   0.999394  16485.54   1.000016     434.10  1.0 -7.349849   \n",
              "\n",
              "   time_id row_id  \n",
              "0        0  0_0_0  \n",
              "1        0  0_0_1  \n",
              "2        0  0_0_2  \n",
              "3        0  0_0_3  \n",
              "4        0  0_0_4  "
            ],
            "text/html": [
              "\n",
              "  <div id=\"df-f419deb6-df56-41da-871b-b5de37b39595\" class=\"colab-df-container\">\n",
              "    <div>\n",
              "<style scoped>\n",
              "    .dataframe tbody tr th:only-of-type {\n",
              "        vertical-align: middle;\n",
              "    }\n",
              "\n",
              "    .dataframe tbody tr th {\n",
              "        vertical-align: top;\n",
              "    }\n",
              "\n",
              "    .dataframe thead th {\n",
              "        text-align: right;\n",
              "    }\n",
              "</style>\n",
              "<table border=\"1\" class=\"dataframe\">\n",
              "  <thead>\n",
              "    <tr style=\"text-align: right;\">\n",
              "      <th></th>\n",
              "      <th>stock_id</th>\n",
              "      <th>date_id</th>\n",
              "      <th>seconds_in_bucket</th>\n",
              "      <th>imbalance_size</th>\n",
              "      <th>imbalance_buy_sell_flag</th>\n",
              "      <th>reference_price</th>\n",
              "      <th>matched_size</th>\n",
              "      <th>far_price</th>\n",
              "      <th>near_price</th>\n",
              "      <th>bid_price</th>\n",
              "      <th>bid_size</th>\n",
              "      <th>ask_price</th>\n",
              "      <th>ask_size</th>\n",
              "      <th>wap</th>\n",
              "      <th>target</th>\n",
              "      <th>time_id</th>\n",
              "      <th>row_id</th>\n",
              "    </tr>\n",
              "  </thead>\n",
              "  <tbody>\n",
              "    <tr>\n",
              "      <th>0</th>\n",
              "      <td>0</td>\n",
              "      <td>0</td>\n",
              "      <td>0</td>\n",
              "      <td>3180602.69</td>\n",
              "      <td>1</td>\n",
              "      <td>0.999812</td>\n",
              "      <td>13380276.64</td>\n",
              "      <td>NaN</td>\n",
              "      <td>NaN</td>\n",
              "      <td>0.999812</td>\n",
              "      <td>60651.50</td>\n",
              "      <td>1.000026</td>\n",
              "      <td>8493.03</td>\n",
              "      <td>1.0</td>\n",
              "      <td>-3.029704</td>\n",
              "      <td>0</td>\n",
              "      <td>0_0_0</td>\n",
              "    </tr>\n",
              "    <tr>\n",
              "      <th>1</th>\n",
              "      <td>1</td>\n",
              "      <td>0</td>\n",
              "      <td>0</td>\n",
              "      <td>166603.91</td>\n",
              "      <td>-1</td>\n",
              "      <td>0.999896</td>\n",
              "      <td>1642214.25</td>\n",
              "      <td>NaN</td>\n",
              "      <td>NaN</td>\n",
              "      <td>0.999896</td>\n",
              "      <td>3233.04</td>\n",
              "      <td>1.000660</td>\n",
              "      <td>20605.09</td>\n",
              "      <td>1.0</td>\n",
              "      <td>-5.519986</td>\n",
              "      <td>0</td>\n",
              "      <td>0_0_1</td>\n",
              "    </tr>\n",
              "    <tr>\n",
              "      <th>2</th>\n",
              "      <td>2</td>\n",
              "      <td>0</td>\n",
              "      <td>0</td>\n",
              "      <td>302879.87</td>\n",
              "      <td>-1</td>\n",
              "      <td>0.999561</td>\n",
              "      <td>1819368.03</td>\n",
              "      <td>NaN</td>\n",
              "      <td>NaN</td>\n",
              "      <td>0.999403</td>\n",
              "      <td>37956.00</td>\n",
              "      <td>1.000298</td>\n",
              "      <td>18995.00</td>\n",
              "      <td>1.0</td>\n",
              "      <td>-8.389950</td>\n",
              "      <td>0</td>\n",
              "      <td>0_0_2</td>\n",
              "    </tr>\n",
              "    <tr>\n",
              "      <th>3</th>\n",
              "      <td>3</td>\n",
              "      <td>0</td>\n",
              "      <td>0</td>\n",
              "      <td>11917682.27</td>\n",
              "      <td>-1</td>\n",
              "      <td>1.000171</td>\n",
              "      <td>18389745.62</td>\n",
              "      <td>NaN</td>\n",
              "      <td>NaN</td>\n",
              "      <td>0.999999</td>\n",
              "      <td>2324.90</td>\n",
              "      <td>1.000214</td>\n",
              "      <td>479032.40</td>\n",
              "      <td>1.0</td>\n",
              "      <td>-4.010200</td>\n",
              "      <td>0</td>\n",
              "      <td>0_0_3</td>\n",
              "    </tr>\n",
              "    <tr>\n",
              "      <th>4</th>\n",
              "      <td>4</td>\n",
              "      <td>0</td>\n",
              "      <td>0</td>\n",
              "      <td>447549.96</td>\n",
              "      <td>-1</td>\n",
              "      <td>0.999532</td>\n",
              "      <td>17860614.95</td>\n",
              "      <td>NaN</td>\n",
              "      <td>NaN</td>\n",
              "      <td>0.999394</td>\n",
              "      <td>16485.54</td>\n",
              "      <td>1.000016</td>\n",
              "      <td>434.10</td>\n",
              "      <td>1.0</td>\n",
              "      <td>-7.349849</td>\n",
              "      <td>0</td>\n",
              "      <td>0_0_4</td>\n",
              "    </tr>\n",
              "  </tbody>\n",
              "</table>\n",
              "</div>\n",
              "    <div class=\"colab-df-buttons\">\n",
              "\n",
              "  <div class=\"colab-df-container\">\n",
              "    <button class=\"colab-df-convert\" onclick=\"convertToInteractive('df-f419deb6-df56-41da-871b-b5de37b39595')\"\n",
              "            title=\"Convert this dataframe to an interactive table.\"\n",
              "            style=\"display:none;\">\n",
              "\n",
              "  <svg xmlns=\"http://www.w3.org/2000/svg\" height=\"24px\" viewBox=\"0 -960 960 960\">\n",
              "    <path d=\"M120-120v-720h720v720H120Zm60-500h600v-160H180v160Zm220 220h160v-160H400v160Zm0 220h160v-160H400v160ZM180-400h160v-160H180v160Zm440 0h160v-160H620v160ZM180-180h160v-160H180v160Zm440 0h160v-160H620v160Z\"/>\n",
              "  </svg>\n",
              "    </button>\n",
              "\n",
              "  <style>\n",
              "    .colab-df-container {\n",
              "      display:flex;\n",
              "      gap: 12px;\n",
              "    }\n",
              "\n",
              "    .colab-df-convert {\n",
              "      background-color: #E8F0FE;\n",
              "      border: none;\n",
              "      border-radius: 50%;\n",
              "      cursor: pointer;\n",
              "      display: none;\n",
              "      fill: #1967D2;\n",
              "      height: 32px;\n",
              "      padding: 0 0 0 0;\n",
              "      width: 32px;\n",
              "    }\n",
              "\n",
              "    .colab-df-convert:hover {\n",
              "      background-color: #E2EBFA;\n",
              "      box-shadow: 0px 1px 2px rgba(60, 64, 67, 0.3), 0px 1px 3px 1px rgba(60, 64, 67, 0.15);\n",
              "      fill: #174EA6;\n",
              "    }\n",
              "\n",
              "    .colab-df-buttons div {\n",
              "      margin-bottom: 4px;\n",
              "    }\n",
              "\n",
              "    [theme=dark] .colab-df-convert {\n",
              "      background-color: #3B4455;\n",
              "      fill: #D2E3FC;\n",
              "    }\n",
              "\n",
              "    [theme=dark] .colab-df-convert:hover {\n",
              "      background-color: #434B5C;\n",
              "      box-shadow: 0px 1px 3px 1px rgba(0, 0, 0, 0.15);\n",
              "      filter: drop-shadow(0px 1px 2px rgba(0, 0, 0, 0.3));\n",
              "      fill: #FFFFFF;\n",
              "    }\n",
              "  </style>\n",
              "\n",
              "    <script>\n",
              "      const buttonEl =\n",
              "        document.querySelector('#df-f419deb6-df56-41da-871b-b5de37b39595 button.colab-df-convert');\n",
              "      buttonEl.style.display =\n",
              "        google.colab.kernel.accessAllowed ? 'block' : 'none';\n",
              "\n",
              "      async function convertToInteractive(key) {\n",
              "        const element = document.querySelector('#df-f419deb6-df56-41da-871b-b5de37b39595');\n",
              "        const dataTable =\n",
              "          await google.colab.kernel.invokeFunction('convertToInteractive',\n",
              "                                                    [key], {});\n",
              "        if (!dataTable) return;\n",
              "\n",
              "        const docLinkHtml = 'Like what you see? Visit the ' +\n",
              "          '<a target=\"_blank\" href=https://colab.research.google.com/notebooks/data_table.ipynb>data table notebook</a>'\n",
              "          + ' to learn more about interactive tables.';\n",
              "        element.innerHTML = '';\n",
              "        dataTable['output_type'] = 'display_data';\n",
              "        await google.colab.output.renderOutput(dataTable, element);\n",
              "        const docLink = document.createElement('div');\n",
              "        docLink.innerHTML = docLinkHtml;\n",
              "        element.appendChild(docLink);\n",
              "      }\n",
              "    </script>\n",
              "  </div>\n",
              "\n",
              "\n",
              "<div id=\"df-ef00a805-e6a0-4863-abc6-71e8f7be957d\">\n",
              "  <button class=\"colab-df-quickchart\" onclick=\"quickchart('df-ef00a805-e6a0-4863-abc6-71e8f7be957d')\"\n",
              "            title=\"Suggest charts\"\n",
              "            style=\"display:none;\">\n",
              "\n",
              "<svg xmlns=\"http://www.w3.org/2000/svg\" height=\"24px\"viewBox=\"0 0 24 24\"\n",
              "     width=\"24px\">\n",
              "    <g>\n",
              "        <path d=\"M19 3H5c-1.1 0-2 .9-2 2v14c0 1.1.9 2 2 2h14c1.1 0 2-.9 2-2V5c0-1.1-.9-2-2-2zM9 17H7v-7h2v7zm4 0h-2V7h2v10zm4 0h-2v-4h2v4z\"/>\n",
              "    </g>\n",
              "</svg>\n",
              "  </button>\n",
              "\n",
              "<style>\n",
              "  .colab-df-quickchart {\n",
              "      --bg-color: #E8F0FE;\n",
              "      --fill-color: #1967D2;\n",
              "      --hover-bg-color: #E2EBFA;\n",
              "      --hover-fill-color: #174EA6;\n",
              "      --disabled-fill-color: #AAA;\n",
              "      --disabled-bg-color: #DDD;\n",
              "  }\n",
              "\n",
              "  [theme=dark] .colab-df-quickchart {\n",
              "      --bg-color: #3B4455;\n",
              "      --fill-color: #D2E3FC;\n",
              "      --hover-bg-color: #434B5C;\n",
              "      --hover-fill-color: #FFFFFF;\n",
              "      --disabled-bg-color: #3B4455;\n",
              "      --disabled-fill-color: #666;\n",
              "  }\n",
              "\n",
              "  .colab-df-quickchart {\n",
              "    background-color: var(--bg-color);\n",
              "    border: none;\n",
              "    border-radius: 50%;\n",
              "    cursor: pointer;\n",
              "    display: none;\n",
              "    fill: var(--fill-color);\n",
              "    height: 32px;\n",
              "    padding: 0;\n",
              "    width: 32px;\n",
              "  }\n",
              "\n",
              "  .colab-df-quickchart:hover {\n",
              "    background-color: var(--hover-bg-color);\n",
              "    box-shadow: 0 1px 2px rgba(60, 64, 67, 0.3), 0 1px 3px 1px rgba(60, 64, 67, 0.15);\n",
              "    fill: var(--button-hover-fill-color);\n",
              "  }\n",
              "\n",
              "  .colab-df-quickchart-complete:disabled,\n",
              "  .colab-df-quickchart-complete:disabled:hover {\n",
              "    background-color: var(--disabled-bg-color);\n",
              "    fill: var(--disabled-fill-color);\n",
              "    box-shadow: none;\n",
              "  }\n",
              "\n",
              "  .colab-df-spinner {\n",
              "    border: 2px solid var(--fill-color);\n",
              "    border-color: transparent;\n",
              "    border-bottom-color: var(--fill-color);\n",
              "    animation:\n",
              "      spin 1s steps(1) infinite;\n",
              "  }\n",
              "\n",
              "  @keyframes spin {\n",
              "    0% {\n",
              "      border-color: transparent;\n",
              "      border-bottom-color: var(--fill-color);\n",
              "      border-left-color: var(--fill-color);\n",
              "    }\n",
              "    20% {\n",
              "      border-color: transparent;\n",
              "      border-left-color: var(--fill-color);\n",
              "      border-top-color: var(--fill-color);\n",
              "    }\n",
              "    30% {\n",
              "      border-color: transparent;\n",
              "      border-left-color: var(--fill-color);\n",
              "      border-top-color: var(--fill-color);\n",
              "      border-right-color: var(--fill-color);\n",
              "    }\n",
              "    40% {\n",
              "      border-color: transparent;\n",
              "      border-right-color: var(--fill-color);\n",
              "      border-top-color: var(--fill-color);\n",
              "    }\n",
              "    60% {\n",
              "      border-color: transparent;\n",
              "      border-right-color: var(--fill-color);\n",
              "    }\n",
              "    80% {\n",
              "      border-color: transparent;\n",
              "      border-right-color: var(--fill-color);\n",
              "      border-bottom-color: var(--fill-color);\n",
              "    }\n",
              "    90% {\n",
              "      border-color: transparent;\n",
              "      border-bottom-color: var(--fill-color);\n",
              "    }\n",
              "  }\n",
              "</style>\n",
              "\n",
              "  <script>\n",
              "    async function quickchart(key) {\n",
              "      const quickchartButtonEl =\n",
              "        document.querySelector('#' + key + ' button');\n",
              "      quickchartButtonEl.disabled = true;  // To prevent multiple clicks.\n",
              "      quickchartButtonEl.classList.add('colab-df-spinner');\n",
              "      try {\n",
              "        const charts = await google.colab.kernel.invokeFunction(\n",
              "            'suggestCharts', [key], {});\n",
              "      } catch (error) {\n",
              "        console.error('Error during call to suggestCharts:', error);\n",
              "      }\n",
              "      quickchartButtonEl.classList.remove('colab-df-spinner');\n",
              "      quickchartButtonEl.classList.add('colab-df-quickchart-complete');\n",
              "    }\n",
              "    (() => {\n",
              "      let quickchartButtonEl =\n",
              "        document.querySelector('#df-ef00a805-e6a0-4863-abc6-71e8f7be957d button');\n",
              "      quickchartButtonEl.style.display =\n",
              "        google.colab.kernel.accessAllowed ? 'block' : 'none';\n",
              "    })();\n",
              "  </script>\n",
              "</div>\n",
              "    </div>\n",
              "  </div>\n"
            ]
          },
          "metadata": {},
          "execution_count": 4
        }
      ],
      "source": [
        "#load datasets\n",
        "df = pd.read_csv('/content/drive/MyDrive/Kaggle competition/Kaggle competition 1/train.csv')\n",
        "df.head()"
      ]
    },
    {
      "cell_type": "code",
      "execution_count": 5,
      "metadata": {
        "colab": {
          "base_uri": "https://localhost:8080/"
        },
        "id": "JnYyhfhLnzqH",
        "outputId": "bf09ddaa-6ad4-4cc3-e05d-6879fe4b3cf9"
      },
      "outputs": [
        {
          "output_type": "execute_result",
          "data": {
            "text/plain": [
              "(5237980, 17)"
            ]
          },
          "metadata": {},
          "execution_count": 5
        }
      ],
      "source": [
        "df.shape"
      ]
    },
    {
      "cell_type": "code",
      "execution_count": 6,
      "metadata": {
        "colab": {
          "base_uri": "https://localhost:8080/"
        },
        "id": "sRk5KFYmoAL7",
        "outputId": "19859fd8-ea50-4697-915b-93e120559784"
      },
      "outputs": [
        {
          "output_type": "stream",
          "name": "stdout",
          "text": [
            "<class 'pandas.core.frame.DataFrame'>\n",
            "RangeIndex: 5237980 entries, 0 to 5237979\n",
            "Data columns (total 17 columns):\n",
            " #   Column                   Dtype  \n",
            "---  ------                   -----  \n",
            " 0   stock_id                 int64  \n",
            " 1   date_id                  int64  \n",
            " 2   seconds_in_bucket        int64  \n",
            " 3   imbalance_size           float64\n",
            " 4   imbalance_buy_sell_flag  int64  \n",
            " 5   reference_price          float64\n",
            " 6   matched_size             float64\n",
            " 7   far_price                float64\n",
            " 8   near_price               float64\n",
            " 9   bid_price                float64\n",
            " 10  bid_size                 float64\n",
            " 11  ask_price                float64\n",
            " 12  ask_size                 float64\n",
            " 13  wap                      float64\n",
            " 14  target                   float64\n",
            " 15  time_id                  int64  \n",
            " 16  row_id                   object \n",
            "dtypes: float64(11), int64(5), object(1)\n",
            "memory usage: 679.4+ MB\n"
          ]
        }
      ],
      "source": [
        "df.info()"
      ]
    },
    {
      "cell_type": "code",
      "execution_count": 7,
      "metadata": {
        "colab": {
          "base_uri": "https://localhost:8080/"
        },
        "id": "h3gd9zC-oEgk",
        "outputId": "fe25cc37-f0cd-4bfa-f472-a09bb639c760"
      },
      "outputs": [
        {
          "output_type": "execute_result",
          "data": {
            "text/plain": [
              "Index(['stock_id', 'date_id', 'seconds_in_bucket', 'imbalance_size',\n",
              "       'imbalance_buy_sell_flag', 'reference_price', 'matched_size',\n",
              "       'far_price', 'near_price', 'bid_price', 'bid_size', 'ask_price',\n",
              "       'ask_size', 'wap', 'target', 'time_id', 'row_id'],\n",
              "      dtype='object')"
            ]
          },
          "metadata": {},
          "execution_count": 7
        }
      ],
      "source": [
        "df.columns"
      ]
    },
    {
      "cell_type": "code",
      "execution_count": 8,
      "metadata": {
        "id": "lQEhDBVQrzTp"
      },
      "outputs": [],
      "source": [
        "# Drop columns based on considerations\n",
        "columns_to_drop = ['stock_id', 'date_id', 'far_price', 'near_price', 'imbalance_size','row_id']\n",
        "df = df.drop(columns=columns_to_drop)\n"
      ]
    },
    {
      "cell_type": "code",
      "execution_count": 9,
      "metadata": {
        "id": "hqNfh0RrpF4G"
      },
      "outputs": [],
      "source": [
        "df = df.dropna()"
      ]
    },
    {
      "cell_type": "code",
      "execution_count": null,
      "metadata": {
        "id": "xQf1uEbUqA56"
      },
      "outputs": [],
      "source": [
        "# Impute missing values with the mean\n",
        "df['reference_price'].fillna(df['reference_price'].mean(), inplace=True)\n",
        "df['matched_size'].fillna(df['matched_size'].mean(), inplace=True)\n",
        "df['bid_price'].fillna(df['bid_price'].mean(), inplace=True)\n",
        "df['ask_price'].fillna(df['ask_price'].mean(), inplace=True)\n",
        "df['wap'].fillna(df['wap'].mean(), inplace=True)\n",
        "df['target'].fillna(df['target'].mean(), inplace=True)"
      ]
    },
    {
      "cell_type": "code",
      "execution_count": null,
      "metadata": {
        "id": "Fqke_lVXsK61"
      },
      "outputs": [],
      "source": [
        "df.isnull().sum().sort_values(ascending=False)"
      ]
    },
    {
      "cell_type": "code",
      "execution_count": null,
      "metadata": {
        "id": "85EHzONvsNGI"
      },
      "outputs": [],
      "source": [
        "df.info()"
      ]
    },
    {
      "cell_type": "code",
      "execution_count": null,
      "metadata": {
        "id": "MSng9uLQwcU_"
      },
      "outputs": [],
      "source": [
        "# Define features (X) and target variable (y)\n",
        "X = df.drop(columns=['target'])\n",
        "y = df['target']"
      ]
    },
    {
      "cell_type": "code",
      "execution_count": null,
      "metadata": {
        "id": "yg4enuGOxWZh"
      },
      "outputs": [],
      "source": [
        "# Split the dataset into training and testing sets\n",
        "X_train, X_test, y_train, y_test = train_test_split(X, y, test_size=0.2, random_state=42)\n"
      ]
    },
    {
      "cell_type": "code",
      "execution_count": null,
      "metadata": {
        "id": "bs9SboiSxZXq"
      },
      "outputs": [],
      "source": [
        "# Initialize and train an XGBoost model\n",
        "model = XGBRegressor()\n",
        "model.fit(X_train, y_train)\n",
        "\n",
        "# Make predictions on the test set\n",
        "y_pred = model.predict(X_test)"
      ]
    },
    {
      "cell_type": "code",
      "execution_count": null,
      "metadata": {
        "id": "6Yd_djWExo4Q"
      },
      "outputs": [],
      "source": [
        "mae = mean_absolute_error(y_test, y_pred)\n",
        "print(f'Mean Absolute Error (MAE): {mae}')"
      ]
    },
    {
      "cell_type": "code",
      "execution_count": null,
      "metadata": {
        "colab": {
          "background_save": true
        },
        "id": "ViRaXfBix8TM"
      },
      "outputs": [],
      "source": [
        "features = df.drop(columns=['target'])\n",
        "target = df['target']\n",
        "\n",
        "# Normalize data\n",
        "scaler = MinMaxScaler()\n",
        "features_normalized = scaler.fit_transform(features)\n",
        "\n",
        "\n",
        "# Normalize data\n",
        "scaler = MinMaxScaler()\n",
        "features_normalized = scaler.fit_transform(features)\n",
        "\n",
        "# Split the dataset into training and testing sets\n",
        "X_train, X_test, y_train, y_test = train_test_split(features_normalized, target, test_size=0.2, random_state=42)\n",
        "\n",
        "# Reshape data for LSTM input (assuming a univariate time series)\n",
        "X_train = np.reshape(X_train, (X_train.shape[0], 1, X_train.shape[1]))\n",
        "X_test = np.reshape(X_test, (X_test.shape[0], 1, X_test.shape[1]))\n",
        "\n",
        "# Build LSTM model\n",
        "model = Sequential()\n",
        "model.add(LSTM(10, input_shape=(X_train.shape[1], X_train.shape[2])))\n",
        "model.add(Dense(1))  # Output layer\n",
        "\n",
        "# Compile the model\n",
        "model.compile(optimizer='adam', loss='mean_squared_error')\n",
        "\n",
        "# Train the model\n",
        "model.fit(X_train, y_train, epochs=10, batch_size=32, validation_data=(X_test, y_test), verbose=2)\n"
      ]
    },
    {
      "cell_type": "code",
      "execution_count": 1,
      "metadata": {
        "id": "XOxdhQfXzYz9",
        "colab": {
          "base_uri": "https://localhost:8080/",
          "height": 245
        },
        "outputId": "041df6f9-ddd7-4e0b-9ab3-3de5a763136a"
      },
      "outputs": [
        {
          "output_type": "error",
          "ename": "NameError",
          "evalue": "ignored",
          "traceback": [
            "\u001b[0;31m---------------------------------------------------------------------------\u001b[0m",
            "\u001b[0;31mNameError\u001b[0m                                 Traceback (most recent call last)",
            "\u001b[0;32m<ipython-input-1-d36f7fcd02e7>\u001b[0m in \u001b[0;36m<cell line: 2>\u001b[0;34m()\u001b[0m\n\u001b[1;32m      1\u001b[0m \u001b[0;31m# Make predictions on the test set\u001b[0m\u001b[0;34m\u001b[0m\u001b[0;34m\u001b[0m\u001b[0m\n\u001b[0;32m----> 2\u001b[0;31m \u001b[0my_pred\u001b[0m \u001b[0;34m=\u001b[0m \u001b[0mmodel\u001b[0m\u001b[0;34m.\u001b[0m\u001b[0mpredict\u001b[0m\u001b[0;34m(\u001b[0m\u001b[0mX_test\u001b[0m\u001b[0;34m)\u001b[0m\u001b[0;34m\u001b[0m\u001b[0;34m\u001b[0m\u001b[0m\n\u001b[0m\u001b[1;32m      3\u001b[0m \u001b[0;34m\u001b[0m\u001b[0m\n\u001b[1;32m      4\u001b[0m \u001b[0;31m# Inverse transform predictions to original scale\u001b[0m\u001b[0;34m\u001b[0m\u001b[0;34m\u001b[0m\u001b[0m\n\u001b[1;32m      5\u001b[0m \u001b[0my_pred_original\u001b[0m \u001b[0;34m=\u001b[0m \u001b[0mscaler\u001b[0m\u001b[0;34m.\u001b[0m\u001b[0minverse_transform\u001b[0m\u001b[0;34m(\u001b[0m\u001b[0my_pred\u001b[0m\u001b[0;34m)\u001b[0m\u001b[0;34m\u001b[0m\u001b[0;34m\u001b[0m\u001b[0m\n",
            "\u001b[0;31mNameError\u001b[0m: name 'model' is not defined"
          ]
        }
      ],
      "source": [
        "# Make predictions on the test set\n",
        "y_pred = model.predict(X_test)\n",
        "\n",
        "# Inverse transform predictions to original scale\n",
        "y_pred_original = scaler.inverse_transform(y_pred)\n",
        "y_test_original = scaler.inverse_transform(np.array(y_test).reshape(-1, len(features.columns)))\n",
        "\n",
        "# Evaluate the model using Mean Absolute Error (MAE)\n",
        "mae = mean_absolute_error(y_test_original, y_pred_original)\n",
        "print(f'Mean Absolute Error (MAE): {mae}')\n",
        "\n",
        "# Plot the predictions against the actual values\n",
        "plt.figure(figsize=(10, 6))\n",
        "plt.plot(y_test_original, label='Actual')\n",
        "plt.plot(y_pred_original, label='Predicted')\n",
        "plt.legend()\n",
        "plt.show()\n",
        "\n",
        "# Save the trained model for future use\n",
        "model.save('lstm_model.h5')\n"
      ]
    }
  ],
  "metadata": {
    "colab": {
      "provenance": [],
      "mount_file_id": "1m6PS_vLqxB9-3rgWfimJSfBgpmpqGnrG",
      "authorship_tag": "ABX9TyPuhAi3cmeJHl6P0DW9Z3KE",
      "include_colab_link": true
    },
    "kernelspec": {
      "display_name": "Python 3",
      "name": "python3"
    },
    "language_info": {
      "name": "python"
    }
  },
  "nbformat": 4,
  "nbformat_minor": 0
}